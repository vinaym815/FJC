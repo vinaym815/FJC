{
 "cells": [
  {
   "cell_type": "code",
   "execution_count": 1,
   "metadata": {},
   "outputs": [],
   "source": [
    "from matplotlib import pyplot as plt\n",
    "import numpy as np\n",
    "import re"
   ]
  },
  {
   "cell_type": "code",
   "execution_count": 2,
   "metadata": {},
   "outputs": [],
   "source": [
    "plt.style.use('ggplot')"
   ]
  },
  {
   "cell_type": "code",
   "execution_count": 3,
   "metadata": {},
   "outputs": [],
   "source": [
    "fileName = \"new.csv\"\n",
    "numHeaderLines = 4\n",
    "delimiter = \",\"\n",
    "yDataNames = [\"time\", \"RKneeOut_x\", \"RKneeOut_y\",\"RKneeOut_z\",\n",
    "              \"RKneeIn_x\",\"RKneeIn_y\",\"RKneeIn_z\",\n",
    "              \"RThigh_x\",\"RThigh_y\", \"RThigh_z\", \n",
    "              \"RAsis_x\", \"RAsis_y\", \"RAsis_z\",\n",
    "              \"RPsi_x\", \"RPsi_y\", \"RPsi_z\",\n",
    "              \"LAsis_x\", \"LAsis_y\", \"LAsis_z\",\n",
    "              \"LPsi_x\", \"LPsi_y\", \"LPsi_z\"]\n",
    "\n",
    "regrexHeader = r'\\w+'\n",
    "Data = np.genfromtxt(fileName, delimiter=delimiter, skip_header=numHeaderLines+1)\n",
    "\n",
    "with open(fileName) as infile:\n",
    "    content = infile.readlines()\n",
    "    row = content[numHeaderLines]\n",
    "headers = row.split(delimiter)\n",
    "\n",
    "dataIdx = {}\n",
    "for i, header in enumerate(headers):\n",
    "    x = re.findall(regrexHeader, header)\n",
    "    if x: \n",
    "        if (x[0] in yDataNames):\n",
    "            dataIdx.update({x[0] : i})\n",
    "\n",
    "fileData = np.zeros((Data.shape[0], len(yDataNames)))\n",
    "for i,name in enumerate(yDataNames):\n",
    "    fileData[:,i] = Data[:, dataIdx[name]]\n",
    "    \n",
    "time = fileData[:, dataIdx[\"time\"]]"
   ]
  },
  {
   "cell_type": "code",
   "execution_count": 4,
   "metadata": {},
   "outputs": [],
   "source": [
    "class Screw:\n",
    "    def __init__(self, rho=None, dirCos=None, theta=None, translation=None):\n",
    "        self.rho = rho\n",
    "        self.dirCos = dirCos\n",
    "        self.theta = theta\n",
    "        self.translation = translation\n",
    "        return None"
   ]
  },
  {
   "cell_type": "code",
   "execution_count": 5,
   "metadata": {},
   "outputs": [],
   "source": [
    "def ComputeScrew(bodyVecs, globalVecs):\n",
    "    nVecs = bodyVecs.shape[0]\n",
    "    displacementVecs = globalVecs - bodyVecs\n",
    "    relativeDispalcmentVecs = displacementVecs - np.tile(displacementVecs[0,:], (nVecs,1))\n",
    "    \n",
    "    if np.linalg.norm(relativeDispalcmentVecs) < 1e-2:\n",
    "        #print(\"Detected Pure Translation\")\n",
    "        meanDispalcementVec = np.mean(displacementVecs, axis=0) \n",
    "        d = np.linalg.norm(meanDispalcementVec)\n",
    "        dirCos = meanDispalcementVec/d\n",
    "        return Screw(np.zeros(3), dirCos, 0.0, d)\n",
    "    else:\n",
    "        # This method for direction cosines can handle more than three points  is based on \n",
    "        # https://math.stackexchange.com/questions/1833035/minimizing-ax-2-subject-to-x-2-1\n",
    "        u,s,vh = np.linalg.svd(relativeDispalcmentVecs)\n",
    "        dirCos = vh[-1,:]\n",
    "    \n",
    "        #print(Matrix(relativeDispalcmentVecs).nullspace()) \n",
    "        #dirCos = Matrix(relativeDispalcmentVecs).nullspace()[-1]\n",
    "        #dirCos = np.array(dirCos.tolist()).astype(np.float64)\n",
    "        #dirCos = dirCos.reshape(3,)/np.linalg.norm(dirCos)\n",
    "    \n",
    "        d = np.dot(dirCos, displacementVecs[0])\n",
    "        translationVec = d*dirCos\n",
    "\n",
    "        perpVecs = displacementVecs - np.tile(translationVec, (nVecs,1))\n",
    "        perpVecs_midPoint = bodyVecs + perpVecs/2\n",
    "\n",
    "        A = np.concatenate((perpVecs, [dirCos]), axis=0)\n",
    "\n",
    "        b = np.concatenate((np.diagonal(np.dot(perpVecs, perpVecs_midPoint.T)).reshape(-1,1), \n",
    "                        np.array([[0.0],])), axis =0)\n",
    "    \n",
    "        # point on the screw axis that is nearest to the origin\n",
    "        rho = np.linalg.lstsq(A, b, rcond=None)[0].reshape(3,)\n",
    "        \n",
    "        for i in range(perpVecs.shape[0]):\n",
    "            vec = perpVecs_midPoint[i]-rho\n",
    "            vec_perp = vec-np.dot(dirCos, vec)\n",
    "            Base = np.linalg.norm(vec_perp)\n",
    "            if (Base>1e-2):\n",
    "                Perp = np.linalg.norm(perpVecs[i]/2)\n",
    "                sign = np.sign(np.dot(dirCos, np.cross(vec_perp, perpVecs[i])))\n",
    "                theta = sign*2*np.arctan(Perp/Base)\n",
    "                break\n",
    "\n",
    "        return Screw(rho, dirCos, theta, d)"
   ]
  },
  {
   "cell_type": "code",
   "execution_count": 6,
   "metadata": {},
   "outputs": [],
   "source": [
    "def TransfromationMatrix(screw):\n",
    "    k_norm = np.linalg.norm(screw.dirCos)\n",
    "    if(k_norm >1e-3):\n",
    "        kx = screw.dirCos[0]/k_norm\n",
    "        ky = screw.dirCos[1]/k_norm\n",
    "        kz = screw.dirCos[2]/k_norm\n",
    "    else:\n",
    "        return None\n",
    "\n",
    "    K = np.array([[0, -kz, ky],[kz, 0, -kx],[-ky, kx, 0]])\n",
    "    r = np.sin(screw.theta)*K + (1-np.cos(screw.theta))*np.dot(K,K)\n",
    "    rho = np.reshape(screw.rho, (-1,1))\n",
    "    mat_rodriguez = r + np.identity(3)\n",
    "    translation_offset = np.dot(-r,rho)+ screw.translation*np.array([[kx], [ky], [kz]])\n",
    "    transform_Mat = np.concatenate((mat_rodriguez, translation_offset), axis=1)\n",
    "    transform_Mat =  np.concatenate(( transform_Mat, np.array([[0, 0, 0, 1]])) ,axis=0)\n",
    "    return transform_Mat"
   ]
  },
  {
   "cell_type": "code",
   "execution_count": 7,
   "metadata": {},
   "outputs": [
    {
     "name": "stdout",
     "output_type": "stream",
     "text": [
      "[[ 0.92845879 -0.37143542  0.         -0.05526066]\n",
      " [ 0.37143542  0.92845879  0.          0.63499275]\n",
      " [ 0.          0.          1.          0.        ]\n",
      " [ 0.          0.          0.          1.        ]]\n"
     ]
    }
   ],
   "source": [
    "pelvisBodyVecs = np.array([[0.011497800000000001, 0.0197974, 0.128],\n",
    "                   [-0.15606900000000001, 0.039409800000000002, 0.055399799999999999],\n",
    "                   [0.011497800000000001, 0.0197974, -0.128],\n",
    "                   [-0.15606900000000001, 0.039541, -0.055399799999999999]], dtype=np.double)\n",
    "\n",
    "\n",
    "i = 206\n",
    "pelvisGlobalVecs = np.reshape(fileData[i,10:], (4,3))\n",
    "pelvis_screw = ComputeScrew(pelvisBodyVecs, pelvisGlobalVecs)\n",
    "pelvis_transformMat = TransfromationMatrix(pelvis_screw)\n",
    "print(pelvis_transformMat)"
   ]
  },
  {
   "cell_type": "code",
   "execution_count": 8,
   "metadata": {},
   "outputs": [
    {
     "name": "stdout",
     "output_type": "stream",
     "text": [
      "[[ 9.49255190e-01 -3.14506891e-01  2.10805785e-14 -3.04899113e-02]\n",
      " [ 3.14506891e-01  9.49255190e-01 -9.51419364e-14  5.37171156e-01]\n",
      " [ 9.91194602e-15  9.69439641e-14  1.00000000e+00 -4.91530732e-15]\n",
      " [ 0.00000000e+00  0.00000000e+00  0.00000000e+00  1.00000000e+00]]\n"
     ]
    }
   ],
   "source": [
    "i = 207\n",
    "pelvisGlobalVecs = np.reshape(fileData[i,10:], (4,3))\n",
    "pelvis_screw = ComputeScrew(pelvisBodyVecs, pelvisGlobalVecs)\n",
    "pelvis_transformMat = TransfromationMatrix(pelvis_screw)\n",
    "print(pelvis_transformMat)"
   ]
  },
  {
   "cell_type": "code",
   "execution_count": 9,
   "metadata": {},
   "outputs": [],
   "source": [
    "pelvisBodyVecs = np.array([[0.011497800000000001, 0.0197974, 0.128],\n",
    "                   [-0.15606900000000001, 0.039409800000000002, 0.055399799999999999],\n",
    "                   [0.011497800000000001, 0.0197974, -0.128],\n",
    "                   [-0.15606900000000001, 0.039541, -0.055399799999999999]], dtype=np.double)\n",
    "\n",
    "\n",
    "femurBodyVecs = np.array([[0.015749900000000001, -0.40403899999999998, 0.0498872],\n",
    "                   [0.0046475099999999997, -0.40554099999999998, -0.048730299999999997],\n",
    "                   [0.0092257799999999994, -0.121377, 0.089914999999999995]])\n",
    "\n",
    "nRows = fileData.shape[0]\n",
    "pelvisOriginGlobal = np.zeros((nRows,3))\n",
    "femurOriginGlobal = np.zeros((nRows,3))\n",
    "\n",
    "for i in range(nRows):\n",
    "    pelvisGlobalVecs = np.reshape(fileData[i,10:], (4,3))\n",
    "    pelvis_screw = ComputeScrew(pelvisBodyVecs, pelvisGlobalVecs)\n",
    "    pelvis_transformMat = TransfromationMatrix(pelvis_screw)\n",
    "    pelvisOriginGlobal[i,:] = pelvis_transformMat[0:3,3]\n",
    "    \n",
    "    femurGlobalVecs = np.reshape(fileData[i,1:10], (3,3))\n",
    "    femur_screw = ComputeScrew(femurBodyVecs, femurGlobalVecs)\n",
    "    femur_transformMat = TransfromationMatrix(femur_screw)\n",
    "    femurOriginGlobal[i,:] = femur_transformMat[0:3,3]\n",
    "\n",
    "vin = np.concatenate((time.reshape(-1,1),femurOriginGlobal), axis=1)\n",
    "np.savetxt(\"predicted.txt\", vin, delimiter=\",\")"
   ]
  },
  {
   "cell_type": "code",
   "execution_count": 10,
   "metadata": {},
   "outputs": [
    {
     "data": {
      "image/png": "[encoded data removed]",
      "text/plain": [
       "<Figure size 720x432 with 1 Axes>"
      ]
     },
     "metadata": {
      "needs_background": "light"
     },
     "output_type": "display_data"
    },
    {
     "data": {
      "image/png": "[encoded data removed]",
      "text/plain": [
       "<Figure size 720x432 with 1 Axes>"
      ]
     },
     "metadata": {
      "needs_background": "light"
     },
     "output_type": "display_data"
    }
   ],
   "source": [
    "%matplotlib inline\n",
    "fig, axs = plt.subplots(1, 1, figsize=(10, 6))\n",
    "axs.plot(time, pelvisOriginGlobal[:,0], label=\"pelvis_x\")\n",
    "axs.plot(time, pelvisOriginGlobal[:,1], label=\"pelvis_y\")\n",
    "axs.plot(time, pelvisOriginGlobal[:,2], label=\"pelvis_z\")\n",
    "axs.set_xlabel(\"time(s)\")\n",
    "axs.set_ylabel(\"m\")\n",
    "axs.legend()\n",
    "\n",
    "fig, axs1 = plt.subplots(1, 1, figsize=(10, 6))\n",
    "axs1.plot(time, femurOriginGlobal[:,0], label=\"femur_x\")\n",
    "axs1.plot(time, femurOriginGlobal[:,1], label=\"femur_y\")\n",
    "axs1.plot(time, femurOriginGlobal[:,2], label=\"femur_z\")\n",
    "axs1.set_xlabel(\"time(s)\")\n",
    "axs1.set_ylabel(\"m\")\n",
    "axs1.legend()\n",
    "\n",
    "plt.show()"
   ]
  },
  {
   "cell_type": "code",
   "execution_count": 13,
   "metadata": {},
   "outputs": [
    {
     "name": "stdout",
     "output_type": "stream",
     "text": [
      "[[-6.84585615e-02]\n",
      " [-7.79279649e-02]\n",
      " [ 2.33149516e+10]\n",
      " [-1.24509679e-02]\n",
      " [-3.04167257e-03]\n",
      " [ 2.33149516e+10]]\n"
     ]
    },
    {
     "name": "stderr",
     "output_type": "stream",
     "text": [
      "<ipython-input-13-fb1319c9619b>:32: FutureWarning: `rcond` parameter will change to the default of machine precision times ``max(M, N)`` where M and N are the input matrix dimensions.\n",
      "To use the future default and silence this warning we advise to pass `rcond=None`, to keep using the old, explicitly pass `rcond=-1`.\n",
      "  vin = np.linalg.lstsq(A,b)[0]\n"
     ]
    }
   ],
   "source": [
    "# femur body vecs [RKneeOut, RKneeIn, RThigh]\n",
    "time = fileData[:, dataIdx[\"time\"]]\n",
    "femurBodyVecs = np.array([[0.015749900000000001, -0.40403899999999998, 0.0498872],\n",
    "                   [0.0046475099999999997, -0.40554099999999998, -0.048730299999999997],\n",
    "                   [0.0092257799999999994, -0.121377, 0.089914999999999995]])\n",
    "\n",
    "pelvisBodyVecs = np.array([[0.011497800000000001, 0.0197974, 0.128],\n",
    "                   [-0.15606900000000001, 0.039409800000000002, 0.055399799999999999],\n",
    "                   [0.011497800000000001, 0.0197974, -0.128],\n",
    "                   [-0.15606900000000001, 0.039541, -0.055399799999999999]])\n",
    "\n",
    "nRows = fileData.shape[0]\n",
    "A = np.zeros((3*nRows, 6))\n",
    "b = np.zeros((3*nRows, 1))\n",
    "\n",
    "for i in range(nRows):\n",
    "    femurGlobalVecs = np.reshape(fileData[i,1:10], (3,3))\n",
    "    femur_screw = ComputeScrew(femurBodyVecs, femurGlobalVecs)\n",
    "    femur_transformMat = TransfromationMatrix(femur_screw)\n",
    "    \n",
    "    pelvisGlobalVecs = np.reshape(fileData[i,10:], (4,3))\n",
    "    pelvis_screw = ComputeScrew(pelvisBodyVecs, pelvisGlobalVecs)\n",
    "    pelvis_transformMat = TransfromationMatrix(pelvis_screw)\n",
    "    \n",
    "    R_femur_pelvis = -np.dot(pelvis_transformMat[0:3, 0:3].T, femur_transformMat[0:3, 0:3])\n",
    "    A[3*i:3*(i+1), :] = np.concatenate((np.identity(3), R_femur_pelvis), axis=1);\n",
    "    \n",
    "    femur_pelvis_pos_global = femur_transformMat[0:3,3] - pelvis_transformMat[0:3,3]\n",
    "    femur_pelvis_pos = np.dot(pelvis_transformMat[0:3, 0:3].T,femur_pelvis_pos_global)\n",
    "    b[3*i:3*(i+1), 0] = femur_pelvis_pos.T\n",
    "\n",
    "vin = np.linalg.lstsq(A,b)[0]\n",
    "print(vin)"
   ]
  },
  {
   "cell_type": "code",
   "execution_count": null,
   "metadata": {},
   "outputs": [],
   "source": []
  }
 ],
 "metadata": {
  "kernelspec": {
   "display_name": "Python 3",
   "language": "python",
   "name": "python3"
  },
  "language_info": {
   "codemirror_mode": {
    "name": "ipython",
    "version": 3
   },
   "file_extension": ".py",
   "mimetype": "text/x-python",
   "name": "python",
   "nbconvert_exporter": "python",
   "pygments_lexer": "ipython3",
   "version": "3.8.5"
  }
 },
 "nbformat": 4,
 "nbformat_minor": 4
}
