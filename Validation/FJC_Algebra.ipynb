{
 "cells": [
  {
   "cell_type": "code",
   "execution_count": 1,
   "metadata": {},
   "outputs": [],
   "source": [
    "from matplotlib import pyplot as plt\n",
    "import numpy as np\n",
    "import re\n",
    "\n",
    "plt.style.use('ggplot')"
   ]
  },
  {
   "cell_type": "code",
   "execution_count": 2,
   "metadata": {},
   "outputs": [],
   "source": [
    "fileName = \"new.csv\"\n",
    "numHeaderLines = 4\n",
    "delimiter = \",\"\n",
    "yDataNames = [\"time\", \"RKneeOut_x\", \"RKneeOut_y\",\"RKneeOut_z\",\n",
    "              \"RKneeIn_x\",\"RKneeIn_y\",\"RKneeIn_z\",\n",
    "              \"RThigh_x\",\"RThigh_y\", \"RThigh_z\", \n",
    "              \"RAsis_x\", \"RAsis_y\", \"RAsis_z\",\n",
    "              \"RPsi_x\", \"RPsi_y\", \"RPsi_z\",\n",
    "              \"LAsis_x\", \"LAsis_y\", \"LAsis_z\",\n",
    "              \"LPsi_x\", \"LPsi_y\", \"LPsi_z\"]\n",
    "\n",
    "regrexHeader = r'\\w+'\n",
    "Data = np.genfromtxt(fileName, delimiter=delimiter, skip_header=numHeaderLines+1)\n",
    "\n",
    "with open(fileName) as infile:\n",
    "    content = infile.readlines()\n",
    "    row = content[numHeaderLines]\n",
    "headers = row.split(delimiter)\n",
    "\n",
    "dataIdx = {}\n",
    "for i, header in enumerate(headers):\n",
    "    x = re.findall(regrexHeader, header)\n",
    "    if x: \n",
    "        if (x[0] in yDataNames):\n",
    "            dataIdx.update({x[0] : i})\n",
    "\n",
    "fileData = np.zeros((Data.shape[0], len(yDataNames)))\n",
    "for i,name in enumerate(yDataNames):\n",
    "    fileData[:,i] = Data[:, dataIdx[name]]\n",
    "    \n",
    "time = fileData[:, dataIdx[\"time\"]]"
   ]
  },
  {
   "cell_type": "code",
   "execution_count": 3,
   "metadata": {},
   "outputs": [],
   "source": [
    "def RelativeDisplacementVec(vectors):\n",
    "    v1 = vectors[:,0]\n",
    "    v2 = vectors[:,1]\n",
    "    v3 = vectors[:,2]\n",
    "    v4 = v1 + np.cross(v2-v1, v3-v1)\n",
    "    result = np.column_stack((v2-v1, v3-v1, v4-v1))\n",
    "    return result"
   ]
  },
  {
   "cell_type": "code",
   "execution_count": 4,
   "metadata": {},
   "outputs": [],
   "source": [
    "# Based on https://math.stackexchange.com/questions/222113/given-3-points-of-a-rigid-body-in-space-how-do-i-find-the-corresponding-orienta\n",
    "# Can use the right pseudo inverse of P if using more than 3 points\n",
    "def TransformationMatrix(bodyVecs, globalVecs):\n",
    "    P = RelativeDisplacementVec(bodyVecs)\n",
    "    Q = RelativeDisplacementVec(globalVecs)\n",
    "    \n",
    "    Pinv = np.linalg.inv(P)\n",
    "    R = np.matmul(Q, Pinv)\n",
    "    \n",
    "    P1 = bodyVecs[:,0]\n",
    "    Q1 = globalVecs[:,0]\n",
    "    d = Q1 - np.matmul(R,P1)\n",
    "    \n",
    "    transformMat = np.identity(4)\n",
    "    transformMat[0:3, 0:3] = R\n",
    "    transformMat[0:3, 3] = d\n",
    "    \n",
    "    return transformMat"
   ]
  },
  {
   "cell_type": "code",
   "execution_count": 15,
   "metadata": {},
   "outputs": [],
   "source": [
    "pelvisBodyVecs = np.array([[0.011497800000000001, 0.0197974, 0.128],\n",
    "                   [-0.15606900000000001, 0.039409800000000002, 0.055399799999999999],\n",
    "                   [0.011497800000000001, 0.0197974, -0.128]]).T\n",
    "\n",
    "nRows = fileData.shape[0]\n",
    "pelvisOriginGlobal = np.zeros((nRows,3))\n",
    "\n",
    "for i in range(nRows):\n",
    "    pelvisGlobalVecs = np.reshape(fileData[i,10:-3], (3,3)).T\n",
    "    pelvis_transformMat = TransformationMatrix(pelvisBodyVecs, pelvisGlobalVecs)\n",
    "    pelvisOriginGlobal[i,:] = pelvis_transformMat[0:3,3]\n",
    "\n",
    "vin = np.concatenate((time.reshape(-1,1),pelvisOriginGlobal), axis=1)\n",
    "np.savetxt(\"pelvisPredicted.csv\", vin, delimiter=\",\")"
   ]
  },
  {
   "cell_type": "code",
   "execution_count": 16,
   "metadata": {},
   "outputs": [
    {
     "data": {
      "image/png": "[encoded data removed]",
      "text/plain": [
       "<Figure size 720x432 with 1 Axes>"
      ]
     },
     "metadata": {
      "needs_background": "light"
     },
     "output_type": "display_data"
    }
   ],
   "source": [
    "%matplotlib inline\n",
    "fig, axs = plt.subplots(1, 1, figsize=(10, 6))\n",
    "axs.plot(time, pelvisOriginGlobal[:,0], label=\"pelvis_x\")\n",
    "axs.plot(time, pelvisOriginGlobal[:,1], label=\"pelvis_y\")\n",
    "axs.plot(time, pelvisOriginGlobal[:,2], label=\"pelvis_z\")\n",
    "axs.set_xlabel(\"time(s)\")\n",
    "axs.set_ylabel(\"m\")\n",
    "axs.legend()\n",
    "\n",
    "plt.show()"
   ]
  },
  {
   "cell_type": "code",
   "execution_count": 1,
   "metadata": {},
   "outputs": [
    {
     "ename": "NameError",
     "evalue": "name 'fileData' is not defined",
     "output_type": "error",
     "traceback": [
      "\u001b[1;31m---------------------------------------------------------------------------\u001b[0m",
      "\u001b[1;31mNameError\u001b[0m                                 Traceback (most recent call last)",
      "\u001b[1;32m<ipython-input-1-5fabf1dbcad9>\u001b[0m in \u001b[0;36m<module>\u001b[1;34m\u001b[0m\n\u001b[0;32m      1\u001b[0m \u001b[1;31m# femur body vecs [RKneeOut, RKneeIn, RThigh]\u001b[0m\u001b[1;33m\u001b[0m\u001b[1;33m\u001b[0m\u001b[1;33m\u001b[0m\u001b[0m\n\u001b[1;32m----> 2\u001b[1;33m \u001b[0mtime\u001b[0m \u001b[1;33m=\u001b[0m \u001b[0mfileData\u001b[0m\u001b[1;33m[\u001b[0m\u001b[1;33m:\u001b[0m\u001b[1;33m,\u001b[0m \u001b[0mdataIdx\u001b[0m\u001b[1;33m[\u001b[0m\u001b[1;34m\"time\"\u001b[0m\u001b[1;33m]\u001b[0m\u001b[1;33m]\u001b[0m\u001b[1;33m\u001b[0m\u001b[1;33m\u001b[0m\u001b[0m\n\u001b[0m\u001b[0;32m      3\u001b[0m femurBodyVecs = np.array([[0.015749900000000001, -0.40403899999999998, 0.0498872],\n\u001b[0;32m      4\u001b[0m                    \u001b[1;33m[\u001b[0m\u001b[1;36m0.0046475099999999997\u001b[0m\u001b[1;33m,\u001b[0m \u001b[1;33m-\u001b[0m\u001b[1;36m0.40554099999999998\u001b[0m\u001b[1;33m,\u001b[0m \u001b[1;33m-\u001b[0m\u001b[1;36m0.048730299999999997\u001b[0m\u001b[1;33m]\u001b[0m\u001b[1;33m,\u001b[0m\u001b[1;33m\u001b[0m\u001b[1;33m\u001b[0m\u001b[0m\n\u001b[0;32m      5\u001b[0m                    [0.0092257799999999994, -0.121377, 0.089914999999999995]]).T\n",
      "\u001b[1;31mNameError\u001b[0m: name 'fileData' is not defined"
     ]
    }
   ],
   "source": [
    "# femur body vecs [RKneeOut, RKneeIn, RThigh]\n",
    "time = fileData[:, dataIdx[\"time\"]]\n",
    "femurBodyVecs = np.array([[0.015749900000000001, -0.40403899999999998, 0.0498872],\n",
    "                   [0.0046475099999999997, -0.40554099999999998, -0.048730299999999997],\n",
    "                   [0.0092257799999999994, -0.121377, 0.089914999999999995]]).T\n",
    "\n",
    "pelvisBodyVecs = np.array([[0.011497800000000001, 0.0197974, 0.128],\n",
    "                   [-0.15606900000000001, 0.039409800000000002, 0.055399799999999999],\n",
    "                   [0.011497800000000001, 0.0197974, -0.128]]).T\n",
    "\n",
    "nRows = fileData.shape[0]\n",
    "A = np.zeros((3*nRows, 6))\n",
    "b = np.zeros((3*nRows, 1))\n",
    "\n",
    "for i in range(nRows):\n",
    "    pelvisGlobalVecs = np.reshape(fileData[i,10:-3], (3,3)).T\n",
    "    pelvis_transformMat = TransformationMatrix(pelvisBodyVecs, pelvisGlobalVecs)\n",
    "    \n",
    "    femurGlobalVecs = np.reshape(fileData[i,1:10], (3,3)).T\n",
    "    femur_transformMat = TransformationMatrix(femurBodyVecs, femurGlobalVecs)    \n",
    "    \n",
    "    R1 = pelvis_transformMat[0:3, 0:3]\n",
    "    R2 = femur_transformMat[0:3, 0:3]\n",
    "    A[3*i:3*(i+1), :] = np.concatenate((np.identity(3), -np.matmul(R1.T, R2)), axis=1);\n",
    "    \n",
    "    femur_pelvis_pos_global = femur_transformMat[0:3,3] - pelvis_transformMat[0:3,3]\n",
    "    femur_pelvis_pos = np.matmul(R1.T, femur_pelvis_pos_global)\n",
    "    b[3*i:3*(i+1), 0] = femur_pelvis_pos\n",
    "\n",
    "vin = np.linalg.lstsq(A,b)[0]\n",
    "print(vin)"
   ]
  },
  {
   "cell_type": "code",
   "execution_count": null,
   "metadata": {},
   "outputs": [],
   "source": []
  }
 ],
 "metadata": {
  "kernelspec": {
   "display_name": "Python 3",
   "language": "python",
   "name": "python3"
  },
  "language_info": {
   "codemirror_mode": {
    "name": "ipython",
    "version": 3
   },
   "file_extension": ".py",
   "mimetype": "text/x-python",
   "name": "python",
   "nbconvert_exporter": "python",
   "pygments_lexer": "ipython3",
   "version": "3.8.5"
  }
 },
 "nbformat": 4,
 "nbformat_minor": 4
}
