{
 "cells": [
  {
   "cell_type": "code",
   "execution_count": 1,
   "metadata": {},
   "outputs": [],
   "source": [
    "from matplotlib import pyplot as plt\n",
    "import numpy as np\n",
    "import re\n",
    "\n",
    "plt.style.use('ggplot')"
   ]
  },
  {
   "cell_type": "code",
   "execution_count": 2,
   "metadata": {},
   "outputs": [],
   "source": [
    "fileName = \"new.csv\"\n",
    "numHeaderLines = 4\n",
    "delimiter = \",\"\n",
    "yDataNames = [\"time\", \"RKneeOut_x\", \"RKneeOut_y\",\"RKneeOut_z\",\n",
    "              \"RKneeIn_x\",\"RKneeIn_y\",\"RKneeIn_z\",\n",
    "              \"RThigh_x\",\"RThigh_y\", \"RThigh_z\", \n",
    "              \"RAsis_x\", \"RAsis_y\", \"RAsis_z\",\n",
    "              \"RPsi_x\", \"RPsi_y\", \"RPsi_z\",\n",
    "              \"LAsis_x\", \"LAsis_y\", \"LAsis_z\",\n",
    "              \"LPsi_x\", \"LPsi_y\", \"LPsi_z\"]\n",
    "\n",
    "regrexHeader = r'\\w+'\n",
    "Data = np.genfromtxt(fileName, delimiter=delimiter, skip_header=numHeaderLines+1)\n",
    "\n",
    "with open(fileName) as infile:\n",
    "    content = infile.readlines()\n",
    "    row = content[numHeaderLines]\n",
    "headers = row.split(delimiter)\n",
    "\n",
    "dataIdx = {}\n",
    "for i, header in enumerate(headers):\n",
    "    x = re.findall(regrexHeader, header)\n",
    "    if x: \n",
    "        if (x[0] in yDataNames):\n",
    "            dataIdx.update({x[0] : i})\n",
    "\n",
    "fileData = np.zeros((Data.shape[0], len(yDataNames)))\n",
    "for i,name in enumerate(yDataNames):\n",
    "    fileData[:,i] = Data[:, dataIdx[name]]\n",
    "\n",
    "time = fileData[:, dataIdx[\"time\"]]"
   ]
  },
  {
   "cell_type": "code",
   "execution_count": 3,
   "metadata": {},
   "outputs": [],
   "source": [
    "def TransformationMatrix(points):\n",
    "    P2P1 = points[1,:]-points[0,:]\n",
    "    P3P1 = points[2,:]-points[0,:]\n",
    "    \n",
    "    xAxis = P2P1/np.linalg.norm(P2P1)\n",
    "    yAxis_unNormalized = np.cross(P2P1, P3P1)\n",
    "    yAxis = yAxis_unNormalized/np.linalg.norm(yAxis_unNormalized)\n",
    "    zAxis = np.cross(xAxis, yAxis)\n",
    "    \n",
    "    origin = np.mean(points, axis=0)\n",
    "    \n",
    "    transformMat = np.column_stack((xAxis, yAxis, zAxis, origin))\n",
    "    return np.row_stack((transformMat, np.array([0, 0, 0, 1])))"
   ]
  },
  {
   "cell_type": "code",
   "execution_count": 4,
   "metadata": {},
   "outputs": [
    {
     "name": "stdout",
     "output_type": "stream",
     "text": [
      "[[-0.05101634]\n",
      " [ 0.10549964]\n",
      " [ 0.11767206]\n",
      " [-0.04244561]\n",
      " [-0.00214877]\n",
      " [-0.31002945]]\n",
      "[-0.05627235  0.4770067   0.14672127  1.        ]\n",
      "[-0.05627235  0.4770067   0.14672127  1.        ]\n"
     ]
    },
    {
     "name": "stderr",
     "output_type": "stream",
     "text": [
      "<ipython-input-4-d72037899923>:20: FutureWarning: `rcond` parameter will change to the default of machine precision times ``max(M, N)`` where M and N are the input matrix dimensions.\n",
      "To use the future default and silence this warning we advise to pass `rcond=None`, to keep using the old, explicitly pass `rcond=-1`.\n",
      "  sHJC_lHJC = np.linalg.lstsq(A,b)[0]\n"
     ]
    }
   ],
   "source": [
    "# For details refer to \"Evaluation of a new algorithm to determine the hip joint center\"\n",
    "nRows = fileData.shape[0]\n",
    "A = np.zeros((3*nRows, 6))\n",
    "b = np.zeros((3*nRows, 1))\n",
    "\n",
    "for i in range(nRows):\n",
    "    femurGlobalVecs = np.reshape(fileData[i,1:10], (3,3))\n",
    "    femur_transformMat = TransformationMatrix(femurGlobalVecs)\n",
    "    \n",
    "    pelvisGlobalVecs = np.reshape(fileData[i,10:-3], (3,3))\n",
    "    pelvis_transformMat = TransformationMatrix(pelvisGlobalVecs)\n",
    "    R1 = pelvis_transformMat[0:3, 0:3]\n",
    "    R2 = femur_transformMat[0:3, 0:3]\n",
    "    A[3*i:3*(i+1), :] = np.concatenate((np.identity(3), -np.matmul(R1.T, R2)), axis=1);\n",
    "    \n",
    "    femur_pelvis_pos_global = femur_transformMat[0:3,3] - pelvis_transformMat[0:3,3]\n",
    "    femur_pelvis_pos = np.matmul(R1.T,femur_pelvis_pos_global)\n",
    "    b[3*i:3*(i+1), 0] = femur_pelvis_pos\n",
    "\n",
    "sHJC_lHJC = np.linalg.lstsq(A,b)[0]\n",
    "print(sHJC_lHJC)\n",
    "\n",
    "sHJC = np.concatenate((sHJC_lHJC[0:3,0], np.array([1])))\n",
    "lHJC = np.concatenate((sHJC_lHJC[3:,0], np.array([1])))\n",
    "\n",
    "pelvisGlobalVecs_t0 = np.reshape(fileData[1,10:-3], (3,3))\n",
    "pelvis_transformMat_t0 = TransformationMatrix(pelvisGlobalVecs_t0)\n",
    "sHJC_global = np.matmul(pelvis_transformMat_t0, sHJC)\n",
    "\n",
    "femurGlobalVecs_t0 = np.reshape(fileData[1,1:10], (3,3))\n",
    "femur_transformMat_t0 = TransformationMatrix(femurGlobalVecs_t0)\n",
    "lHJC_global = np.matmul(femur_transformMat_t0, lHJC)\n",
    "\n",
    "print(sHJC_global)\n",
    "print(lHJC_global)"
   ]
  },
  {
   "cell_type": "code",
   "execution_count": null,
   "metadata": {},
   "outputs": [],
   "source": []
  }
 ],
 "metadata": {
  "kernelspec": {
   "display_name": "Python 3",
   "language": "python",
   "name": "python3"
  },
  "language_info": {
   "codemirror_mode": {
    "name": "ipython",
    "version": 3
   },
   "file_extension": ".py",
   "mimetype": "text/x-python",
   "name": "python",
   "nbconvert_exporter": "python",
   "pygments_lexer": "ipython3",
   "version": "3.8.5"
  }
 },
 "nbformat": 4,
 "nbformat_minor": 4
}
